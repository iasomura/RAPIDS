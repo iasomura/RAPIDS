{
 "cells": [
  {
   "cell_type": "code",
   "execution_count": 1,
   "id": "370224c6-1b04-4d49-b15f-5e083e52b0e2",
   "metadata": {},
   "outputs": [
    {
     "name": "stdout",
     "output_type": "stream",
     "text": [
      "[INFO] website_data - 取得レコード数: 12074, 処理成功数: 12074\n",
      "[INFO] normal_sites - 取得レコード数: 9591, 処理成功数: 9591\n"
     ]
    }
   ],
   "source": [
    "import pandas as pd\n",
    "import re\n",
    "from sqlalchemy import create_engine\n",
    "import json\n",
    "from cryptography import x509\n",
    "from cryptography.hazmat.backends import default_backend\n",
    "from cryptography.hazmat.primitives import serialization\n",
    "from cryptography.hazmat.primitives.serialization import pkcs7\n",
    "import binascii\n",
    "from typing import Tuple, Optional\n",
    "\n",
    "def get_engine(db_name: str) -> create_engine:\n",
    "    \"\"\"データベース接続エンジンを取得\"\"\"\n",
    "    host = 'localhost'\n",
    "    with open('/home/asomura/waseda/nextstep/RAPIDS/config/database.json') as f:\n",
    "        config = json.load(f)['database']\n",
    "    return create_engine(\n",
    "        f'postgresql://{config[\"user\"]}:{config[\"password\"]}@{host}/{db_name}'\n",
    "    )\n",
    "\n",
    "def clean_cert_data(cert_data: str) -> Optional[bytes]:\n",
    "    \"\"\"証明書データのクリーニングとバイナリ変換\"\"\"\n",
    "    try:\n",
    "        cert_data = cert_data.strip()\n",
    "        if \"-----BEGIN\" in cert_data:\n",
    "            return cert_data.encode('utf-8')\n",
    "        hex_str = re.sub(r'[^0-9a-fA-F]', '', cert_data.replace('\\\\x', '').replace(' ', ''))\n",
    "        if len(hex_str) % 2 != 0:\n",
    "            hex_str += '0'\n",
    "        return binascii.unhexlify(hex_str)\n",
    "    except Exception as e:\n",
    "        print(f\"[ERROR] 証明書データ変換失敗: {str(e)}\")\n",
    "        return None\n",
    "\n",
    "def load_certificate_from_data(data: bytes) -> Tuple[Optional[x509.Certificate], str]:\n",
    "    \"\"\"PEM, DER, PKCS#7（PEM/DER）の各形式に対応して証明書をロード\"\"\"\n",
    "    try:\n",
    "        if b'-----BEGIN CERTIFICATE-----' in data:\n",
    "            return x509.load_pem_x509_certificate(data, default_backend()), \"PEM\"\n",
    "        if b'-----BEGIN PKCS7-----' in data:\n",
    "            return pkcs7.load_pem_pkcs7_certificates(data)[0], \"PKCS7_PEM\"\n",
    "        try:\n",
    "            return x509.load_der_x509_certificate(data, default_backend()), \"DER\"\n",
    "        except Exception:\n",
    "            return pkcs7.load_der_pkcs7_certificates(data)[0], \"PKCS7_DER\"\n",
    "    except Exception as e:\n",
    "        print(f\"[ERROR] 証明書のロード失敗: {str(e)}\")\n",
    "        return None, \"Unknown\"\n",
    "\n",
    "def analyze_certificates_from_db(db_name: str):\n",
    "    \"\"\"証明書データを取得し、パース可能な証明書の数を確認\"\"\"\n",
    "    engine = get_engine(db_name)\n",
    "    query = \"\"\"\n",
    "    SELECT id, https_certificate_body FROM website_data\n",
    "    WHERE status = 7 AND https_certificate_body IS NOT NULL\n",
    "    \"\"\"\n",
    "    df_cert = pd.read_sql_query(query, engine)\n",
    "    total_records = len(df_cert)\n",
    "    processed_cert_count = 0\n",
    "    \n",
    "    for _, row in df_cert.iterrows():\n",
    "        data = clean_cert_data(row['https_certificate_body'])\n",
    "        if not data:\n",
    "            print(f\"[DEBUG] 証明書データ変換失敗: レコードID {row['id']}\")\n",
    "            continue\n",
    "        cert, cert_format = load_certificate_from_data(data)\n",
    "        if cert:\n",
    "            processed_cert_count += 1\n",
    "        else:\n",
    "            print(f\"[DEBUG] 証明書パース失敗: レコードID {row['id']}, フォーマット: {cert_format}\")\n",
    "    \n",
    "    print(f\"[INFO] {db_name} - 取得レコード数: {total_records}, 処理成功数: {processed_cert_count}\")\n",
    "\n",
    "# 実行\n",
    "for db in ['website_data', 'normal_sites']:\n",
    "    analyze_certificates_from_db(db)\n"
   ]
  },
  {
   "cell_type": "code",
   "execution_count": null,
   "id": "2d7bddca-9425-481c-8bb1-7413ea594290",
   "metadata": {},
   "outputs": [],
   "source": []
  }
 ],
 "metadata": {
  "kernelspec": {
   "display_name": "Python 3 (ipykernel)",
   "language": "python",
   "name": "python3"
  },
  "language_info": {
   "codemirror_mode": {
    "name": "ipython",
    "version": 3
   },
   "file_extension": ".py",
   "mimetype": "text/x-python",
   "name": "python",
   "nbconvert_exporter": "python",
   "pygments_lexer": "ipython3",
   "version": "3.12.3"
  }
 },
 "nbformat": 4,
 "nbformat_minor": 5
}
